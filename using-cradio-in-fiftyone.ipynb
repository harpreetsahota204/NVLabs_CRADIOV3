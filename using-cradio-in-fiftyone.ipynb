{
 "cells": [
  {
   "cell_type": "markdown",
   "metadata": {},
   "source": [
    "# Using C-RADIO with your FiftyOne dataset\n",
    "\n",
    "First, download a dataset. Let's use the `quickstart`:"
   ]
  },
  {
   "cell_type": "code",
   "execution_count": 1,
   "metadata": {},
   "outputs": [
    {
     "name": "stdout",
     "output_type": "stream",
     "text": [
      "Downloading config file fiftyone.yml from Voxel51/INQUIRE_Rerank\n"
     ]
    },
    {
     "data": {
      "application/vnd.jupyter.widget-view+json": {
       "model_id": "4a01a05bb5e242de8b2e61d6bdd61571",
       "version_major": 2,
       "version_minor": 0
      },
      "text/plain": [
       "fiftyone.yml:   0%|          | 0.00/93.0 [00:00<?, ?B/s]"
      ]
     },
     "metadata": {},
     "output_type": "display_data"
    },
    {
     "name": "stdout",
     "output_type": "stream",
     "text": [
      "Loading dataset\n",
      "Importing samples...\n",
      " 100% |███████████████| 1000/1000 [29.6ms elapsed, 0s remaining, 33.8K samples/s]      \n",
      "Downloading 1000 media files...\n"
     ]
    },
    {
     "name": "stderr",
     "output_type": "stream",
     "text": [
      "100%|██████████| 10/10 [00:37<00:00,  3.73s/it]\n"
     ]
    }
   ],
   "source": [
    "import fiftyone as fo\n",
    "\n",
    "from fiftyone.utils.huggingface import load_from_hub\n",
    "\n",
    "dataset = load_from_hub(\n",
    "    \"Voxel51/INQUIRE_Rerank\",\n",
    "    max_samples=1000\n",
    "    )"
   ]
  },
  {
   "cell_type": "markdown",
   "metadata": {},
   "source": [
    "Next, you register the zoo model source:\n"
   ]
  },
  {
   "cell_type": "code",
   "execution_count": 2,
   "metadata": {},
   "outputs": [],
   "source": [
    "import fiftyone.zoo as foz\n",
    "\n",
    "foz.register_zoo_model_source(\n",
    "    \"https://github.com/harpreetsahota204/NVLabs_CRADIOV3\"\n",
    "    )"
   ]
  },
  {
   "cell_type": "markdown",
   "metadata": {},
   "source": [
    "Finally, instantiate the model. Let's start with computing embeddings.\n",
    "\n",
    "Note: Refer to the [README](https://github.com/harpreetsahota204/NVLabs_CRADIOV3/blob/main/README.md) for available model checkpoints."
   ]
  },
  {
   "cell_type": "code",
   "execution_count": null,
   "metadata": {},
   "outputs": [],
   "source": [
    "radio_embeddings_model = foz.load_zoo_model(\n",
    "    \"nv_labs/c-radio_v3-h\",\n",
    "    feature_format=\"NCHW\", # you can also pass NLC here\n",
    ")"
   ]
  },
  {
   "cell_type": "markdown",
   "metadata": {},
   "source": [
    "You can compute embeddings as follows:"
   ]
  },
  {
   "cell_type": "code",
   "execution_count": 5,
   "metadata": {},
   "outputs": [
    {
     "name": "stdout",
     "output_type": "stream",
     "text": [
      " 100% |███████████████| 1000/1000 [53.3s elapsed, 0s remaining, 20.3 samples/s]      \n"
     ]
    }
   ],
   "source": [
    "dataset.compute_embeddings(\n",
    "    model=radio_embeddings_model,\n",
    "    embeddings_field=\"radio_embeddings\",\n",
    ")"
   ]
  },
  {
   "cell_type": "markdown",
   "metadata": {},
   "source": [
    "Once you have your embeddings, you can compute the visualization to visualize in the FiftyOne App:"
   ]
  },
  {
   "cell_type": "code",
   "execution_count": 6,
   "metadata": {},
   "outputs": [
    {
     "name": "stdout",
     "output_type": "stream",
     "text": [
      "Generating visualization...\n"
     ]
    },
    {
     "name": "stderr",
     "output_type": "stream",
     "text": [
      "/home/harpreet/miniconda3/envs/fo_develop/lib/python3.11/site-packages/sklearn/utils/deprecation.py:151: FutureWarning: 'force_all_finite' was renamed to 'ensure_all_finite' in 1.6 and will be removed in 1.8.\n",
      "  warnings.warn(\n"
     ]
    },
    {
     "name": "stdout",
     "output_type": "stream",
     "text": [
      "UMAP( verbose=True)\n",
      "Wed Jun 18 16:59:05 2025 Construct fuzzy simplicial set\n",
      "Wed Jun 18 16:59:06 2025 Finding Nearest Neighbors\n",
      "Wed Jun 18 16:59:10 2025 Finished Nearest Neighbor Search\n",
      "Wed Jun 18 16:59:11 2025 Construct embedding\n"
     ]
    },
    {
     "data": {
      "application/vnd.jupyter.widget-view+json": {
       "model_id": "011f3a4300f140e29b2f7bca14056070",
       "version_major": 2,
       "version_minor": 0
      },
      "text/plain": [
       "Epochs completed:   0%|            0/500 [00:00]"
      ]
     },
     "metadata": {},
     "output_type": "display_data"
    },
    {
     "name": "stdout",
     "output_type": "stream",
     "text": [
      "\tcompleted  0  /  500 epochs\n",
      "\tcompleted  50  /  500 epochs\n",
      "\tcompleted  100  /  500 epochs\n",
      "\tcompleted  150  /  500 epochs\n",
      "\tcompleted  200  /  500 epochs\n",
      "\tcompleted  250  /  500 epochs\n",
      "\tcompleted  300  /  500 epochs\n",
      "\tcompleted  350  /  500 epochs\n",
      "\tcompleted  400  /  500 epochs\n",
      "\tcompleted  450  /  500 epochs\n",
      "Wed Jun 18 16:59:13 2025 Finished embedding\n"
     ]
    }
   ],
   "source": [
    "import fiftyone.brain as fob\n",
    "\n",
    "results = fob.compute_visualization(\n",
    "    dataset,\n",
    "    method=\"umap\",  # \"umap\", \"tsne\", \"pca\", etc\n",
    "    brain_key=\"radio_viz\",\n",
    "    embeddings=\"radio_embeddings\"\n",
    ")"
   ]
  },
  {
   "cell_type": "markdown",
   "metadata": {},
   "source": [
    "You can also build a similarity index over the embeddings to find similar samples in your dataset:"
   ]
  },
  {
   "cell_type": "code",
   "execution_count": 7,
   "metadata": {},
   "outputs": [],
   "source": [
    "import fiftyone.brain as fob\n",
    "\n",
    "results = fob.compute_similarity(\n",
    "    dataset,\n",
    "    backend=\"sklearn\",  # \"sklearn\", \"qdrant\", \"redis\", etc\n",
    "    brain_key=\"radio_sim\",\n",
    "    embeddings=\"radio_embeddings\"\n",
    ")"
   ]
  },
  {
   "cell_type": "markdown",
   "metadata": {},
   "source": [
    "With your computed embeddings you can also perform other embeddings based workflows such as computing uniqueness values:"
   ]
  },
  {
   "cell_type": "code",
   "execution_count": 8,
   "metadata": {},
   "outputs": [
    {
     "name": "stdout",
     "output_type": "stream",
     "text": [
      "Retrieving embeddings from similarity index...\n",
      "Computing uniqueness...\n",
      "Uniqueness computation complete\n"
     ]
    }
   ],
   "source": [
    "import fiftyone.brain as fob\n",
    "\n",
    "fob.compute_uniqueness(\n",
    "    dataset,\n",
    "    uniqueness_field=\"radio_uniqueness\",\n",
    "    similarity_index=\"radio_sim\"\n",
    "    )"
   ]
  },
  {
   "cell_type": "markdown",
   "metadata": {},
   "source": [
    "You can also compute representativeness scores:"
   ]
  },
  {
   "cell_type": "code",
   "execution_count": 9,
   "metadata": {},
   "outputs": [
    {
     "name": "stdout",
     "output_type": "stream",
     "text": [
      "Retrieving embeddings from similarity index...\n",
      "Computing representativeness...\n",
      "Computing clusters for 1000 embeddings; this may take awhile...\n",
      "Representativeness computation complete\n"
     ]
    }
   ],
   "source": [
    "import fiftyone.brain as fob\n",
    "\n",
    "fob.compute_representativeness(\n",
    "    dataset,\n",
    "    representativeness_field=\"radio_representativeness\",\n",
    "    similarity_index=\"radio_sim\"\n",
    "    )"
   ]
  },
  {
   "cell_type": "markdown",
   "metadata": {},
   "source": [
    "### Computing Spatial Features\n",
    "\n",
    "You can also compute spatial features. To use this feature you need to set `output_type=\"spatial\"`, additionally spatial features only supports `feature_format=\"NCHW\"`.\n",
    "\n",
    "You can choose to do some Gaussian smoothing if you'd like, just set `apply_smoothing=True` and choose a value for `smoothing_sigma`."
   ]
  },
  {
   "cell_type": "code",
   "execution_count": null,
   "metadata": {},
   "outputs": [],
   "source": [
    "radio_spatial_model = foz.load_zoo_model(\n",
    "    \"nv_labs/c-radio_v3-h\",\n",
    "    output_type=\"spatial\",\n",
    "    apply_smoothing=True, # if you want smoothing\n",
    "    smoothing_sigma=0.51, # how much smoothing you want to apply\n",
    "    feature_format=\"NCHW\" #this is the required for the heatmap\n",
    ") "
   ]
  },
  {
   "cell_type": "markdown",
   "metadata": {},
   "source": [
    "Notice that we are using the `apply_model` method here, as we are not computing 1D embeddings like above."
   ]
  },
  {
   "cell_type": "code",
   "execution_count": 11,
   "metadata": {},
   "outputs": [
    {
     "name": "stdout",
     "output_type": "stream",
     "text": [
      " 100% |███████████████| 1000/1000 [1.8m elapsed, 0s remaining, 10.5 samples/s]      \n"
     ]
    }
   ],
   "source": [
    "dataset.apply_model(\n",
    "    radio_spatial_model,\n",
    "    \"radio_spatial_features\"\n",
    ")"
   ]
  },
  {
   "cell_type": "markdown",
   "metadata": {},
   "source": [
    "You can view your results in the app like so:"
   ]
  },
  {
   "cell_type": "code",
   "execution_count": null,
   "metadata": {},
   "outputs": [],
   "source": [
    "fo.launch_app(dataset)"
   ]
  },
  {
   "cell_type": "markdown",
   "metadata": {},
   "source": [
    "# ![CRADIO FiftyOne Demo](cradio-fiftyone.gif)"
   ]
  }
 ],
 "metadata": {
  "kernelspec": {
   "display_name": "fo_develop",
   "language": "python",
   "name": "python3"
  },
  "language_info": {
   "codemirror_mode": {
    "name": "ipython",
    "version": 3
   },
   "file_extension": ".py",
   "mimetype": "text/x-python",
   "name": "python",
   "nbconvert_exporter": "python",
   "pygments_lexer": "ipython3",
   "version": "3.11.11"
  }
 },
 "nbformat": 4,
 "nbformat_minor": 2
}
